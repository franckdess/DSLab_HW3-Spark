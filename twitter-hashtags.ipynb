{
 "cells": [
  {
   "cell_type": "code",
   "execution_count": 1,
   "metadata": {
    "collapsed": true
   },
   "outputs": [],
   "source": [
    "%matplotlib inline\n",
    "import matplotlib.pylab as plt\n",
    "plt.rcParams['figure.figsize'] = (10,6)\n",
    "plt.rcParams['font.size'] = 18\n",
    "plt.style.use('fivethirtyeight')"
   ]
  },
  {
   "cell_type": "markdown",
   "metadata": {},
   "source": [
    "# Uncovering World Events using Twitter Hashtags\n",
    "\n",
    "## ... and learning about Spark `DataFrames` along the way\n",
    "\n",
    "In this notebook, we will use temporal information about Twitter hashtags to discover trending topics and potentially uncover world events as they occurred. You've already used this dataset in a previous homework, but here we will be working with it in Apache Spark.\n",
    "\n",
    "### Hashtags\n",
    "\n",
    "The idea here is that when an event is happening and people are having a conversation about it on Twitter, a set of uniform hashtags that represent the event spontaneously evolves. Twitter users then use those hashtags to communicate with one another. Some hashtags, like `#RT` for \"retweet\" or just `#retweet` are used frequently and don't tell us much about what is going on. But a sudden appearance of a hashtag like `#oscars` probably indicates that the oscars are underway. For a particularly cool example of this type of analysis, check out [this blog post about earthquake detection using Twitter data](https://blog.twitter.com/official/en_us/a/2015/usgs-twitter-data-earthquake-detection.html) (although they search the text and not necessarily hashtags)."
   ]
  },
  {
   "cell_type": "markdown",
   "metadata": {},
   "source": [
    "## Initialize the `SparkSession`"
   ]
  },
  {
   "cell_type": "code",
   "execution_count": 2,
   "metadata": {
    "collapsed": true
   },
   "outputs": [],
   "source": [
    "import getpass\n",
    "import pyspark\n",
    "from pyspark.sql import SparkSession\n",
    "\n",
    "spark = SparkSession \\\n",
    "    .builder \\\n",
    "    .master(\"yarn\") \\\n",
    "    .appName('twitter-{0}'.format(getpass.getuser())) \\\n",
    "    .config('spark.executor.memory', '4g') \\\n",
    "    .config('spark.executor.instances', '5') \\\n",
    "    .config('spark.port.maxRetries', '100') \\\n",
    "    .getOrCreate()"
   ]
  },
  {
   "cell_type": "code",
   "execution_count": 3,
   "metadata": {},
   "outputs": [
    {
     "data": {
      "text/html": [
       "\n",
       "            <div>\n",
       "                <p><b>SparkSession - in-memory</b></p>\n",
       "                \n",
       "        <div>\n",
       "            <p><b>SparkContext</b></p>\n",
       "\n",
       "            <p><a href=\"http://iccluster042.iccluster.epfl.ch:4042\">Spark UI</a></p>\n",
       "\n",
       "            <dl>\n",
       "              <dt>Version</dt>\n",
       "                <dd><code>v2.3.2.3.1.0.0-78</code></dd>\n",
       "              <dt>Master</dt>\n",
       "                <dd><code>yarn</code></dd>\n",
       "              <dt>AppName</dt>\n",
       "                <dd><code>twitter-guerra</code></dd>\n",
       "            </dl>\n",
       "        </div>\n",
       "        \n",
       "            </div>\n",
       "        "
      ],
      "text/plain": [
       "<pyspark.sql.session.SparkSession at 0x7fe8d6c27c88>"
      ]
     },
     "execution_count": 3,
     "metadata": {},
     "output_type": "execute_result"
    }
   ],
   "source": [
    "spark"
   ]
  },
  {
   "cell_type": "markdown",
   "metadata": {},
   "source": [
    "## Set up the hashtag `DataFrame` (10 points / 60)\n",
    "\n",
    "We have prepared the hashtag data spanning the time from April-July 2016. This is a significant time in modern European history, e.g. see [Brexit](https://en.wikipedia.org/wiki/Brexit). Lets see if we can see any interesting trends about these events in the Twitter data. "
   ]
  },
  {
   "cell_type": "code",
   "execution_count": 4,
   "metadata": {
    "collapsed": true
   },
   "outputs": [],
   "source": [
    "from datetime import datetime\n",
    "\n",
    "import pyspark.sql.functions as functions"
   ]
  },
  {
   "cell_type": "markdown",
   "metadata": {},
   "source": [
    "### DONE (1 point/10)\n",
    "\n",
    "Load the **parquet** data from `/datasets/twitter/parquet/2016-hashtags-timestamp` into a Spark dataframe using the appropriate `SparkSession` method. \n",
    "\n",
    "Look at the first few rows of the dataset - note the timestamp and its units!"
   ]
  },
  {
   "cell_type": "code",
   "execution_count": 5,
   "metadata": {},
   "outputs": [
    {
     "name": "stdout",
     "output_type": "stream",
     "text": [
      "+------------+----+------------------+\n",
      "|   timestamp|lang|           hashtag|\n",
      "+------------+----+------------------+\n",
      "|1.46152973E9|  ar|  كلنا_لله_والرسول|\n",
      "|1.46154317E9|  ja|             vジャンプ|\n",
      "| 1.4615296E9|  pt|     gameofthrones|\n",
      "|1.46152832E9|  tr|            itiraf|\n",
      "|1.46154573E9|  ko|                더쇼|\n",
      "|1.46154483E9| und|              ford|\n",
      "| 1.4615433E9|  en|        stanleycup|\n",
      "|1.46152934E9|  ru|           новости|\n",
      "|1.46154573E9|  en|        bsoulradio|\n",
      "|1.46154496E9|  en|tsouitscomplicated|\n",
      "|1.46152973E9|  ja|            rezero|\n",
      "|1.46154317E9|  en|              star|\n",
      "|1.46154253E9|  ko|              성인자료|\n",
      "| 1.4615296E9|  ar|               أخر|\n",
      "|1.46153152E9|  tr|      aşıkolanadam|\n",
      "| 1.4615296E9|  ja|              相互限定|\n",
      "|1.46152896E9|  en|              vibe|\n",
      "|1.46154458E9|  en|     gameofthrones|\n",
      "|1.46154317E9|  ja|              予約投稿|\n",
      "|1.46154317E9|  ja|               傷物語|\n",
      "+------------+----+------------------+\n",
      "only showing top 20 rows\n",
      "\n"
     ]
    }
   ],
   "source": [
    "# Load the file\n",
    "df = spark.read.parquet('/datasets/twitter/parquet/2016-hashtags-timestamp')\n",
    "df.show()"
   ]
  },
  {
   "cell_type": "markdown",
   "metadata": {},
   "source": [
    "### User-defined functions\n",
    "\n",
    "A neat trick of spark dataframes is that you can essentially use something very much like an RDD `map` method but without switching to the RDD. If you are familiar with database languages, this works very much like e.g. a user-defined function in SQL. \n",
    "\n",
    "So, for example, if we wanted to make a user-defined python function that returns the hashtags in lowercase, we could do something like this:"
   ]
  },
  {
   "cell_type": "code",
   "execution_count": 6,
   "metadata": {
    "collapsed": true
   },
   "outputs": [],
   "source": [
    "@functions.udf\n",
    "def lowercase(text):\n",
    "    \"\"\"Convert text to lowercase\"\"\"\n",
    "    return text.lower()"
   ]
  },
  {
   "cell_type": "markdown",
   "metadata": {},
   "source": [
    "The @functions.udf is a \"decorator\" -- this is really handy python syntactic sugar and in this case is equivalent to:\n",
    "\n",
    "```\n",
    "def lowercase(text):\n",
    "    return text.lower()\n",
    "    \n",
    "lowercase = functions.udf(lowercase)\n",
    "```\n",
    "\n",
    "It basically takes our function and adds to its functionality. In this case, it registers our function as a pyspark dataframe user-defined function (UDF).\n",
    "\n",
    "Using these UDFs is very straightforward and analogous to other Spark dataframe operations. For example:"
   ]
  },
  {
   "cell_type": "code",
   "execution_count": 7,
   "metadata": {},
   "outputs": [
    {
     "name": "stdout",
     "output_type": "stream",
     "text": [
      "+------------------+\n",
      "|lowercase(hashtag)|\n",
      "+------------------+\n",
      "|  كلنا_لله_والرسول|\n",
      "|             vジャンプ|\n",
      "|     gameofthrones|\n",
      "|            itiraf|\n",
      "|                더쇼|\n",
      "|              ford|\n",
      "|        stanleycup|\n",
      "|           новости|\n",
      "|        bsoulradio|\n",
      "|tsouitscomplicated|\n",
      "|            rezero|\n",
      "|              star|\n",
      "|              성인자료|\n",
      "|               أخر|\n",
      "|      aşıkolanadam|\n",
      "|              相互限定|\n",
      "|              vibe|\n",
      "|     gameofthrones|\n",
      "|              予約投稿|\n",
      "|               傷物語|\n",
      "+------------------+\n",
      "only showing top 20 rows\n",
      "\n"
     ]
    }
   ],
   "source": [
    "df.select(lowercase(df.hashtag)).show()"
   ]
  },
  {
   "cell_type": "markdown",
   "metadata": {},
   "source": [
    "Using a framework like Spark is all about understanding the ins and outs of how it functions and knowing what it offers. One of the cool things about the dataframe API is that many functions are already defined for you (turning strings into lowercase being one of them). \n",
    "\n",
    "### DONE (2 points / 10)\n",
    "\n",
    "Find the Spark python API documentation. Look for the `sql` section and find the listing of `sql.functions`. Repeat the above (turning hashtags into lowercase) but use the built-in function."
   ]
  },
  {
   "cell_type": "code",
   "execution_count": 8,
   "metadata": {},
   "outputs": [
    {
     "name": "stdout",
     "output_type": "stream",
     "text": [
      "+------------------+\n",
      "|    lower(hashtag)|\n",
      "+------------------+\n",
      "|  كلنا_لله_والرسول|\n",
      "|             vジャンプ|\n",
      "|     gameofthrones|\n",
      "|            itiraf|\n",
      "|                더쇼|\n",
      "|              ford|\n",
      "|        stanleycup|\n",
      "|           новости|\n",
      "|        bsoulradio|\n",
      "|tsouitscomplicated|\n",
      "|            rezero|\n",
      "|              star|\n",
      "|              성인자료|\n",
      "|               أخر|\n",
      "|      aşıkolanadam|\n",
      "|              相互限定|\n",
      "|              vibe|\n",
      "|     gameofthrones|\n",
      "|              予約投稿|\n",
      "|               傷物語|\n",
      "+------------------+\n",
      "only showing top 20 rows\n",
      "\n"
     ]
    }
   ],
   "source": [
    "df.select(functions.lower(df.hashtag)).show()"
   ]
  },
  {
   "cell_type": "markdown",
   "metadata": {},
   "source": [
    "We'll work with a combination of these built-in functions and user-defined functions for the remainder of this homework. \n",
    "\n",
    "### DONE (7 points/10)\n",
    "\n",
    "Create `english_df` consisting of **lowercase** hashtags from only english-language tweets. In addition, convert the timestamp to a more readable format like this and name the column `date`:\n",
    "\n",
    "```\n",
    "2016-04-01 08:41:00\n",
    "```"
   ]
  },
  {
   "cell_type": "code",
   "execution_count": 9,
   "metadata": {},
   "outputs": [
    {
     "name": "stdout",
     "output_type": "stream",
     "text": [
      "+------------+----+------------------+-------------------+\n",
      "|   timestamp|lang|           hashtag|               date|\n",
      "+------------+----+------------------+-------------------+\n",
      "| 1.4615433E9|  en|        stanleycup|2016-04-25 02:14:56|\n",
      "|1.46154573E9|  en|        bsoulradio|2016-04-25 02:55:28|\n",
      "|1.46154496E9|  en|tsouitscomplicated|2016-04-25 02:42:40|\n",
      "|1.46154317E9|  en|              star|2016-04-25 02:12:48|\n",
      "|1.46152896E9|  en|              vibe|2016-04-24 22:16:00|\n",
      "+------------+----+------------------+-------------------+\n",
      "only showing top 5 rows\n",
      "\n"
     ]
    }
   ],
   "source": [
    "# Selection only hashtags in english\n",
    "english_df = df.select(df.timestamp, df.lang, df.hashtag).filter(df.lang == 'en')\n",
    "\n",
    "# Add hashtag column\n",
    "english_df = english_df.withColumn('hashtag', functions.lower(df.hashtag))\n",
    "\n",
    "# Add date column using the timestamp\n",
    "english_df = english_df.withColumn('date', functions.from_unixtime(df.timestamp, 'yyyy-MM-dd HH:mm:ss'))\n",
    "\n",
    "# Show the result\n",
    "english_df.show(5)"
   ]
  },
  {
   "cell_type": "markdown",
   "metadata": {},
   "source": [
    "Your `english_df` should look something like this:\n",
    "\n",
    "```\n",
    "+------------+----+------------------+-------------------+\n",
    "|   timestamp|lang|           hashtag|               date|\n",
    "+------------+----+------------------+-------------------+\n",
    "| 1.4615433E9|  en|        stanleycup|2016-04-25 02:14:56|\n",
    "|1.46154573E9|  en|        bsoulradio|2016-04-25 02:55:28|\n",
    "|1.46154496E9|  en|tsouitscomplicated|2016-04-25 02:42:40|\n",
    "|1.46154317E9|  en|              star|2016-04-25 02:12:48|\n",
    "|1.46152896E9|  en|              vibe|2016-04-24 22:16:00|\n",
    "+------------+----+------------------+-------------------+\n",
    "```"
   ]
  },
  {
   "cell_type": "markdown",
   "metadata": {},
   "source": [
    "## Twitter hashtag trends (50 points / 60)\n",
    "\n",
    "In this section we will try to do a slightly more complicated analysis of the tweets. Our goal is to get an idea of tweet frequency as a function of time for certain hashtags. \n",
    "\n",
    "Lets build this up in steps. First, lets see how we can start to organize the tweets by their timestamps. \n",
    "\n",
    "As a first easy example, lets say we just want to count the number of tweets per minute over the entire span of our data. For this, we first need a \"global\" minute value, e.g. \"minute of the year\" or something similar. \n",
    "\n",
    "Spark provides us with some handy built-in dataframe functions that are made for transforming date and time fields. \n",
    "\n",
    "Have a look [here](http://spark.apache.org/docs/latest/api/python/pyspark.sql.html#module-pyspark.sql.functions) to see the whole list of custom dataframe functions - you will need to use them to complete the next set of TODO items."
   ]
  },
  {
   "cell_type": "markdown",
   "metadata": {},
   "source": [
    "Note that the functions can be combined. Consider the following dataframe and its transformation:"
   ]
  },
  {
   "cell_type": "code",
   "execution_count": 10,
   "metadata": {
    "collapsed": true
   },
   "outputs": [],
   "source": [
    "from pyspark.sql import Row"
   ]
  },
  {
   "cell_type": "code",
   "execution_count": 11,
   "metadata": {},
   "outputs": [
    {
     "name": "stdout",
     "output_type": "stream",
     "text": [
      "+---------------------+\n",
      "|SIN(RADIANS(degrees))|\n",
      "+---------------------+\n",
      "|                  0.0|\n",
      "|  0.01745240643728351|\n",
      "|  0.03489949670250097|\n",
      "|  0.05233595624294383|\n",
      "|   0.0697564737441253|\n",
      "|  0.08715574274765817|\n",
      "|  0.10452846326765346|\n",
      "|  0.12186934340514748|\n",
      "|  0.13917310096006544|\n",
      "|  0.15643446504023087|\n",
      "|  0.17364817766693033|\n",
      "|   0.1908089953765448|\n",
      "|  0.20791169081775931|\n",
      "|  0.22495105434386498|\n",
      "|  0.24192189559966773|\n",
      "|  0.25881904510252074|\n",
      "|  0.27563735581699916|\n",
      "|   0.2923717047227367|\n",
      "|   0.3090169943749474|\n",
      "|   0.3255681544571567|\n",
      "+---------------------+\n",
      "only showing top 20 rows\n",
      "\n"
     ]
    }
   ],
   "source": [
    "# create a sample dataframe with one column \"degrees\" going from 0 to 180\n",
    "test_df = spark.createDataFrame(spark.sparkContext.range(180).map(lambda x: Row(degrees=x)), ['degrees'])\n",
    "\n",
    "# define a function \"sin_rad\" that first converts degrees to radians and then takes the sine using built-in functions\n",
    "sin_rad = functions.sin(functions.radians(test_df.degrees))\n",
    "\n",
    "# show the result\n",
    "test_df.select(sin_rad).show()"
   ]
  },
  {
   "cell_type": "markdown",
   "metadata": {},
   "source": [
    "### DataFrames `groupBy`\n",
    "\n",
    "We used `groupBy` already in the previous notebook, but here we will take more advantage of its features. \n",
    "\n",
    "One important thing to note is that unlike other RDD or DataFrame transformations, the `groupBy` does not return another DataFrame, but a `GroupedData` object instead, with its own methods. These methods allow you to do various transformations and aggregations on the data of the grouped rows. \n",
    "\n",
    "Conceptually the procedure is a lot like this:\n",
    "\n",
    "![groupby](https://i.stack.imgur.com/sgCn1.jpg)\n",
    "\n",
    "The column that is used for the `groupBy` is the `key` - once we have the values of a particular key all together, we can use various aggregation functions on them to generate a transformed dataset. In this example, the aggregation function is a simple `sum`. In the simple procedure below, the `key` will be the hashtag."
   ]
  },
  {
   "cell_type": "markdown",
   "metadata": {},
   "source": [
    "### DONE (1 point / 50)\n",
    "\n",
    "Calculate the top five most common hashtags in the whole english-language dataset.\n",
    "\n",
    "This should be your result:\n",
    "\n",
    "```\n",
    "+-------------+------+\n",
    "|      hashtag| count|\n",
    "+-------------+------+\n",
    "|   mtvhottest|800829|\n",
    "|veranomtv2016|539028|\n",
    "| iheartawards|447648|\n",
    "|  bestfanarmy|429739|\n",
    "|   teenchoice|345231|\n",
    "+-------------+------+\n",
    "```"
   ]
  },
  {
   "cell_type": "code",
   "execution_count": 12,
   "metadata": {},
   "outputs": [
    {
     "name": "stdout",
     "output_type": "stream",
     "text": [
      "+-------------+------+\n",
      "|      hashtag| count|\n",
      "+-------------+------+\n",
      "|   mtvhottest|800829|\n",
      "|veranomtv2016|539028|\n",
      "| iheartawards|447648|\n",
      "|  bestfanarmy|429739|\n",
      "|   teenchoice|345231|\n",
      "+-------------+------+\n",
      "\n"
     ]
    }
   ],
   "source": [
    "most_comm_hashtag = english_df.groupBy('hashtag').count().sort('count', ascending=False).limit(5)\n",
    "most_comm_hashtag.show()"
   ]
  },
  {
   "cell_type": "markdown",
   "metadata": {},
   "source": [
    "## Daily hashtag trends\n",
    "\n",
    "Now we will start to complicate the analysis a bit. Remember, our goal is to uncover trending topics on a timescale of a few days. A much needed column then is simply `day`. To convert the date string into day-of-year, you can use the built-in [dayofyear](http://spark.apache.org/docs/latest/api/python/pyspark.sql.html#pyspark.sql.functions.dayofyear) function. \n",
    "\n",
    "In the subsequent sections we will then not only see which hashtags are globally most popular, but which ones experience the biggest changes in popularity - those are the \"trending\" topics. If there is suddenly a substantial increase of a hashtag over a matter of a day or two, it may signify an event taking place. "
   ]
  },
  {
   "cell_type": "markdown",
   "metadata": {},
   "source": [
    "### DONE (2 points / 50)\n",
    "\n",
    "Create a dataframe called `daily_hashtag` that includes the columns `month`, `week`, `day` and `hashtag`. Use the `english_df` you made above to start, and make sure you find the appropriate spark dataframe functions to make your life easier. Show the result.\n",
    "\n",
    "Try to match this view:\n",
    "\n",
    "```\n",
    "+-----+----+---+------------------+\n",
    "|month|week|day|           hashtag|\n",
    "+-----+----+---+------------------+\n",
    "|    4|  17|116|        stanleycup|\n",
    "|    4|  17|116|        bsoulradio|\n",
    "|    4|  17|116|tsouitscomplicated|\n",
    "|    4|  17|116|              star|\n",
    "|    4|  16|115|              vibe|\n",
    "+-----+----+---+------------------+\n",
    "```"
   ]
  },
  {
   "cell_type": "code",
   "execution_count": 13,
   "metadata": {},
   "outputs": [
    {
     "name": "stdout",
     "output_type": "stream",
     "text": [
      "+-----+----+---+------------------+\n",
      "|month|week|day|           hashtag|\n",
      "+-----+----+---+------------------+\n",
      "|    4|  17|116|        stanleycup|\n",
      "|    4|  17|116|        bsoulradio|\n",
      "|    4|  17|116|tsouitscomplicated|\n",
      "|    4|  17|116|              star|\n",
      "|    4|  16|115|              vibe|\n",
      "+-----+----+---+------------------+\n",
      "only showing top 5 rows\n",
      "\n"
     ]
    }
   ],
   "source": [
    "daily_hashtag = english_df.withColumn('d', functions.to_date('date', 'yyyy-MM-dd HH:mm:ss'))\\\n",
    "                          .select(functions.month('d').alias('month'),\n",
    "                                  functions.weekofyear('d').alias('week'),\n",
    "                                  functions.dayofyear('d').alias('day'),\n",
    "                                  'hashtag')\n",
    "daily_hashtag.show(5)"
   ]
  },
  {
   "cell_type": "markdown",
   "metadata": {},
   "source": [
    "### DONE (2 points / 50)\n",
    "\n",
    "Now we want to calculate the number of times a hashtag is used per day. Sort in descending order of daily counts and show the result. Call the resulting dataframe `day_counts`.\n",
    "\n",
    "Your output should look like this:\n",
    "\n",
    "```\n",
    "+---+------------+----+------+\n",
    "|day|     hashtag|week| count|\n",
    "+---+------------+----+------+\n",
    "| 94|iheartawards|  13|208326|\n",
    "| 94| bestfanarmy|  13|202267|\n",
    "| 93|iheartawards|  13|133463|\n",
    "| 93| bestfanarmy|  13|131405|\n",
    "| 94|     5sosfam|  13| 81002|\n",
    "+---+------------+----+------+\n",
    "```\n",
    "\n",
    "<div class=\"alert alert-info\">\n",
    "<p>Make sure you use `cache()` when you create `day_counts` because we will need it in the steps that follow!</p>\n",
    "</div>"
   ]
  },
  {
   "cell_type": "code",
   "execution_count": 14,
   "metadata": {},
   "outputs": [
    {
     "name": "stdout",
     "output_type": "stream",
     "text": [
      "+---+------------+----+------+\n",
      "|day|     hashtag|week| count|\n",
      "+---+------------+----+------+\n",
      "| 94|iheartawards|  13|208326|\n",
      "| 94| bestfanarmy|  13|202267|\n",
      "| 93|iheartawards|  13|133463|\n",
      "| 93| bestfanarmy|  13|131405|\n",
      "| 94|     5sosfam|  13| 81002|\n",
      "+---+------------+----+------+\n",
      "only showing top 5 rows\n",
      "\n"
     ]
    }
   ],
   "source": [
    "day_counts = daily_hashtag.groupBy('day', 'hashtag', 'week').count().sort('count', ascending=False).cache()\n",
    "day_counts.show(5)"
   ]
  },
  {
   "cell_type": "markdown",
   "metadata": {},
   "source": [
    "### DONE (2 points / 50)\n",
    "\n",
    "To get an idea of which hashtags stay popular for several days, calculate the average number of daily occurences for each week. Hint: use the `week` column we created above. Sort in descending order and show the top 20."
   ]
  },
  {
   "cell_type": "code",
   "execution_count": 15,
   "metadata": {},
   "outputs": [
    {
     "name": "stdout",
     "output_type": "stream",
     "text": [
      "+----+-----------------+------------------+\n",
      "|week|          hashtag|        avg(count)|\n",
      "+----+-----------------+------------------+\n",
      "|  13|     iheartawards|          128017.0|\n",
      "|  13|      bestfanarmy|125075.66666666667|\n",
      "|  29|       mtvhottest|           51935.0|\n",
      "|  30|       mtvhottest| 47960.71428571428|\n",
      "|  13|          5sosfam|           46847.0|\n",
      "|  13|      harmonizers|42939.333333333336|\n",
      "|  13|     directioners|32562.333333333332|\n",
      "|  19|       teenchoice|20124.428571428572|\n",
      "|  25|    veranomtv2016|18096.285714285714|\n",
      "|  26|    veranomtv2016|17386.571428571428|\n",
      "|  15|aldub9thmonthsary|16190.666666666666|\n",
      "|  27|    veranomtv2016| 14033.42857142857|\n",
      "|  28|       mtvhottest|13168.857142857143|\n",
      "|  30|    veranomtv2016|12528.142857142857|\n",
      "|  23|     ripchristina|           12017.0|\n",
      "|  23|    mtvawardsstar|12010.333333333334|\n",
      "|  27|    altonsterling|           10291.4|\n",
      "|  30|     demsinphilly|           10049.0|\n",
      "|  14|     iheartawards| 8853.285714285714|\n",
      "|  31|       mtvhottest|            8539.0|\n",
      "+----+-----------------+------------------+\n",
      "only showing top 20 rows\n",
      "\n"
     ]
    }
   ],
   "source": [
    "day_counts.groupBy('week', 'hashtag').mean('count').sort('avg(count)', ascending=False).show()"
   ]
  },
  {
   "cell_type": "markdown",
   "metadata": {},
   "source": [
    "### Using `Window` functions \n",
    "\n",
    "Window functions are another awesome feature of dataframes. They allow users to accomplish complex tasks using very concise and simple code. \n",
    "\n",
    "Above we computed just the hashtag that had the most occurrences on *any* day. Now lets say we want to know the top tweets for *each* day.  \n",
    "\n",
    "This is a non-trivial thing to compute and requires \"windowing\" our data. I recommend reading this [window functions article](https://databricks.com/blog/2015/07/15/introducing-window-functions-in-spark-sql.html) to get acquainted with the idea. You can think of a window function as a fine-grained and more flexible `groupBy`. \n",
    "\n",
    "There are two things we need to define to use window functions:\n",
    "\n",
    "1. the \"window\" to use, based on which columns (partitioning) and how the rows should be ordered \n",
    "2. the computation to carry out for each windowed group, e.g. a max, an average etc.\n",
    "\n",
    "Lets see how this works by example. We will define a window function, `daily_window` that will partition data based on the `day` column. Within each window, the rows will be ordered by the daily hashtag count that we computed above. Finally, we will use the rank function **over** this window to give us the ranking of top tweets. \n",
    "\n",
    "In the end, this is a fairly complicated operation achieved in just a few lines of code! (can you think of how to do this with an RDD??)"
   ]
  },
  {
   "cell_type": "code",
   "execution_count": 16,
   "metadata": {
    "collapsed": true
   },
   "outputs": [],
   "source": [
    "from pyspark.sql import Window"
   ]
  },
  {
   "cell_type": "markdown",
   "metadata": {},
   "source": [
    "First, we specify the window function and the ordering:"
   ]
  },
  {
   "cell_type": "code",
   "execution_count": 17,
   "metadata": {
    "collapsed": true
   },
   "outputs": [],
   "source": [
    "daily_window = Window.partitionBy('day').orderBy(functions.desc('count'))"
   ]
  },
  {
   "cell_type": "markdown",
   "metadata": {},
   "source": [
    "The above window function says that we should window the data on the `day` column and order it by count. \n",
    "\n",
    "Now we need to define what we want to compute on the windowed data. We will start by just calculating the daily ranking of hashtags, so we can use the helpful built-in `functions.rank()` and sort:"
   ]
  },
  {
   "cell_type": "code",
   "execution_count": 18,
   "metadata": {
    "collapsed": true
   },
   "outputs": [],
   "source": [
    "daily_rank = functions.rank() \\\n",
    "                      .over(daily_window) \\\n",
    "                      .alias('rank') \\"
   ]
  },
  {
   "cell_type": "markdown",
   "metadata": {},
   "source": [
    "### DONE (3 points / 50)\n",
    "Now compute the top five hashtags for each day in our data:"
   ]
  },
  {
   "cell_type": "code",
   "execution_count": 19,
   "metadata": {},
   "outputs": [
    {
     "name": "stdout",
     "output_type": "stream",
     "text": [
      "+---+------------+------+----+\n",
      "|day|     hashtag| count|rank|\n",
      "+---+------------+------+----+\n",
      "| 92|iheartawards| 42262|   1|\n",
      "| 92| bestfanarmy| 41555|   2|\n",
      "| 92| harmonizers| 19844|   3|\n",
      "| 92|     5sosfam| 15138|   4|\n",
      "| 92|directioners|  6090|   5|\n",
      "| 93|iheartawards|133463|   1|\n",
      "| 93| bestfanarmy|131405|   2|\n",
      "| 93| harmonizers| 54684|   3|\n",
      "| 93|     5sosfam| 44401|   4|\n",
      "| 93|directioners| 30902|   5|\n",
      "| 94|iheartawards|208326|   1|\n",
      "| 94| bestfanarmy|202267|   2|\n",
      "| 94|     5sosfam| 81002|   3|\n",
      "| 94|directioners| 60695|   4|\n",
      "| 94| harmonizers| 54290|   5|\n",
      "| 95|iheartawards| 59870|   1|\n",
      "| 95| bestfanarmy| 52184|   2|\n",
      "| 95|     5sosfam| 25701|   3|\n",
      "| 95|wrestlemania| 14913|   4|\n",
      "| 95| harmonizers| 12980|   5|\n",
      "+---+------------+------+----+\n",
      "only showing top 20 rows\n",
      "\n"
     ]
    }
   ],
   "source": [
    "top_hashtags_each_day = day_counts.select('day', 'hashtag', 'count', daily_rank)\n",
    "top_hashtags_each_day = top_hashtags_each_day.filter(top_hashtags_each_day.rank <= 5).sort('day', 'rank')\n",
    "top_hashtags_each_day.show()"
   ]
  },
  {
   "cell_type": "markdown",
   "metadata": {},
   "source": [
    "###  DONE - Compute the top five trending tweets per week (20 points / 50)\n",
    "Use window functions (or other techniques!) to produce lists of top few trending tweets for each week. What's a \"trending\" tweet? Something that seems to be suddenly growing very rapidly in popularity. You should identify \"brexit\" in week 25 and other events like the death of The Artist Formerly Known as Prince, the Met gala, Euro 2016, the terrorist attacks in Nice, France etc. Make it as simple or as complicated as you want! The final listing should be clear and concise and the flow of your analysis should be easy to follow. If you make an implementation that is not immediately obvious, make sure you provide comments either in markdown cells or in comments in the code itself."
   ]
  },
  {
   "cell_type": "code",
   "execution_count": 20,
   "metadata": {
    "collapsed": true
   },
   "outputs": [],
   "source": [
    "# Use the same principle as above only group by week\n",
    "week_counts = day_counts.groupBy('week', 'hashtag').sum('count')\n",
    "\n",
    "# Window to sort the hashtags each week\n",
    "weekly_window = Window.partitionBy('week').orderBy(functions.desc('sum(count)'))\n",
    "\n",
    "# Rank function to use\n",
    "weekly_rank = functions.rank() \\\n",
    "                      .over(weekly_window) \\\n",
    "                      .alias('rank') \n",
    "\n",
    "# Top hashtags per week \n",
    "top_hashtags_weekly = week_counts.select('week', 'hashtag', 'sum(count)', weekly_rank)\n",
    "\n",
    "# Take only the 5 best per week\n",
    "top_hashtags_weekly_5 = top_hashtags_weekly.filter(top_hashtags_weekly.rank <= 5).sort('week', 'rank')"
   ]
  },
  {
   "cell_type": "code",
   "execution_count": 21,
   "metadata": {},
   "outputs": [
    {
     "name": "stdout",
     "output_type": "stream",
     "text": [
      "+----+--------------------+----------+\n",
      "|week|             hashtag|sum(count)|\n",
      "+----+--------------------+----------+\n",
      "|  13|                girl|       161|\n",
      "|  20|            branding|       397|\n",
      "|  26|           happynday|       350|\n",
      "|  24|                  규현|       220|\n",
      "|  26|              coffee|       617|\n",
      "|  19|                 fps|       312|\n",
      "|  23|              disney|       260|\n",
      "|  28|               몬스타엑스|       522|\n",
      "|  28|          asksquawka|        56|\n",
      "|  26|           indiegame|       334|\n",
      "|  26|  revivaltourstlouis|        59|\n",
      "|  16|thanksforslflwwpr...|        52|\n",
      "|  21|              corrie|       170|\n",
      "|  17|               indie|       365|\n",
      "|  25|                 por|      3422|\n",
      "|  29|     thirstythursday|        85|\n",
      "|  30|            gostrong|       101|\n",
      "|  17|     realdonaldtrump|       365|\n",
      "|  14|        doitforstate|       201|\n",
      "|  20|             indycar|       165|\n",
      "+----+--------------------+----------+\n",
      "only showing top 20 rows\n",
      "\n"
     ]
    }
   ],
   "source": [
    "# Show the week count of each hashtag\n",
    "week_counts.show()"
   ]
  },
  {
   "cell_type": "code",
   "execution_count": 22,
   "metadata": {},
   "outputs": [
    {
     "name": "stdout",
     "output_type": "stream",
     "text": [
      "+----+--------------------+----------+----+\n",
      "|week|             hashtag|sum(count)|rank|\n",
      "+----+--------------------+----------+----+\n",
      "|  31|          mtvhottest|      8539|   1|\n",
      "|  31|          teenchoice|      4609|   2|\n",
      "|  31|dolceamorethegame...|      2997|   3|\n",
      "|  31|  pushawardslizquens|      2974|   4|\n",
      "|  31|   aldublolalifeanew|      1498|   5|\n",
      "|  31|    teenchoiceawards|      1263|   6|\n",
      "|  31|          sharknado4|      1130|   7|\n",
      "|  31|            kcon16la|      1114|   8|\n",
      "|  31| pushawardskathniels|       928|   9|\n",
      "|  31|pushawardsviceryl...|       845|  10|\n",
      "|  31|  trumpdebateexcuses|       763|  11|\n",
      "|  31|   choicemalewebstar|       706|  12|\n",
      "|  31|         gameinsight|       627|  13|\n",
      "|  31|             android|       542|  14|\n",
      "|  31|          nowplaying|       533|  15|\n",
      "|  31|        androidgames|       523|  16|\n",
      "|  31|       gurumsgsays4u|       493|  17|\n",
      "|  31|            bigolive|       414|  18|\n",
      "|  31|                bb18|       408|  19|\n",
      "|  31|       nashsnewvideo|       392|  20|\n",
      "+----+--------------------+----------+----+\n",
      "only showing top 20 rows\n",
      "\n"
     ]
    }
   ],
   "source": [
    "# Show the week rank of each hashtag\n",
    "top_hashtags_weekly.show()"
   ]
  },
  {
   "cell_type": "code",
   "execution_count": 23,
   "metadata": {},
   "outputs": [
    {
     "name": "stdout",
     "output_type": "stream",
     "text": [
      "+----+-------+----------+----+\n",
      "|week|hashtag|sum(count)|rank|\n",
      "+----+-------+----------+----+\n",
      "|  25| brexit|     49416|   2|\n",
      "|  26| brexit|     16762|   4|\n",
      "+----+-------+----------+----+\n",
      "\n"
     ]
    }
   ],
   "source": [
    "top_hashtags_weekly_5.filter((top_hashtags_weekly_5['hashtag']).contains('brexit')).show()"
   ]
  },
  {
   "cell_type": "code",
   "execution_count": 24,
   "metadata": {},
   "outputs": [
    {
     "name": "stdout",
     "output_type": "stream",
     "text": [
      "+----+-------+----------+----+\n",
      "|week|hashtag|sum(count)|rank|\n",
      "+----+-------+----------+----+\n",
      "|  16| prince|     11189|   3|\n",
      "+----+-------+----------+----+\n",
      "\n"
     ]
    }
   ],
   "source": [
    "top_hashtags_weekly_5.filter((top_hashtags_weekly_5['hashtag']).contains('prince')).show()"
   ]
  },
  {
   "cell_type": "code",
   "execution_count": 25,
   "metadata": {},
   "outputs": [
    {
     "name": "stdout",
     "output_type": "stream",
     "text": [
      "+----+-------+----------+----+\n",
      "|week|hashtag|sum(count)|rank|\n",
      "+----+-------+----------+----+\n",
      "|  18|metgala|     24319|   1|\n",
      "+----+-------+----------+----+\n",
      "\n"
     ]
    }
   ],
   "source": [
    "top_hashtags_weekly_5.filter((top_hashtags_weekly_5['hashtag']).contains('metgala')).show()"
   ]
  },
  {
   "cell_type": "markdown",
   "metadata": {},
   "source": [
    "## Plotting the timeseries of hashtag counts and using KMeans clustering\n",
    "\n",
    "### DONE (10 points / 50)\n",
    "\n",
    "The lists we obtained above are nice, but lets actually visualize some data. \n",
    "\n",
    "1. create a matrix that consists of hashtags as rows and daily counts as columns (hint: use `groupBy` and methods of `GroupedData`). \n",
    "2. use the `VectorAssembler` from the ML library to create the feature vector which will consist of daily counts. \n",
    "\n",
    "If you extract any of these vectors you will obtain a numpy array that represents the time series of daily counts - plot this time series for a few interesting hashtags you identified above. hint: the `isin` method of DataFrame columns might be useful. "
   ]
  },
  {
   "cell_type": "code",
   "execution_count": 26,
   "metadata": {
    "collapsed": true
   },
   "outputs": [],
   "source": [
    "from pyspark.ml.feature import VectorAssembler"
   ]
  },
  {
   "cell_type": "code",
   "execution_count": 27,
   "metadata": {
    "collapsed": true
   },
   "outputs": [],
   "source": [
    "# Create a DataFrame having for column each occurring day in the dataset\n",
    "day_counts_matrix = day_counts.groupBy('hashtag').pivot('day').agg(functions.first('count')).cache()"
   ]
  },
  {
   "cell_type": "code",
   "execution_count": 28,
   "metadata": {
    "collapsed": true
   },
   "outputs": [],
   "source": [
    "# Assembler to create a feature vector using the days as input columns\n",
    "assembler = VectorAssembler(inputCols=['{0}'.format(i) for i in day_counts_matrix.columns[1:]], \n",
    "                            outputCol='features')\n",
    "# Filter out null values\n",
    "day_counts_matrix = day_counts_matrix.fillna(0)\n",
    "features_df = assembler.transform(day_counts_matrix).cache()"
   ]
  },
  {
   "cell_type": "code",
   "execution_count": 29,
   "metadata": {},
   "outputs": [
    {
     "data": {
      "text/plain": [
       "Row(features=DenseVector([11.0, 14.0, 6.0, 11.0, 16.0, 14.0, 15.0, 9.0, 7.0, 8.0, 8.0, 16.0, 16.0, 11.0, 9.0, 21.0, 13.0, 10.0, 12.0, 14.0, 20.0, 13.0, 1.0, 9.0, 8.0, 18.0, 12.0, 17.0, 13.0, 17.0, 10.0, 7.0, 6.0, 13.0, 20.0, 12.0, 7.0, 9.0, 13.0, 15.0, 11.0, 15.0, 10.0, 6.0, 7.0, 13.0, 8.0, 11.0, 12.0, 16.0, 8.0, 8.0, 14.0, 13.0, 9.0, 11.0, 8.0, 10.0, 4.0, 13.0, 5.0, 10.0, 6.0, 4.0, 8.0, 16.0, 12.0, 8.0, 5.0, 14.0, 15.0, 5.0, 2.0, 0.0, 7.0, 5.0, 13.0, 8.0, 11.0, 9.0, 14.0, 4.0, 3.0, 8.0, 17.0, 10.0, 12.0, 8.0, 5.0, 8.0, 13.0, 16.0, 13.0, 12.0, 12.0, 3.0, 6.0, 9.0, 9.0, 17.0, 10.0, 10.0, 6.0, 8.0, 16.0, 9.0, 11.0, 9.0, 13.0, 9.0, 5.0, 13.0, 8.0, 12.0, 19.0, 14.0, 10.0, 7.0, 2.0]))"
      ]
     },
     "execution_count": 29,
     "metadata": {},
     "output_type": "execute_result"
    }
   ],
   "source": [
    "features_df.select('features').first()"
   ]
  },
  {
   "cell_type": "code",
   "execution_count": 30,
   "metadata": {
    "collapsed": true
   },
   "outputs": [],
   "source": [
    "# Plot 3 different hashtag trends over the year: prince, brexit, metgala\n",
    "prince_array = features_df.filter(features_df.hashtag == 'prince').select('features').collect()\n",
    "brexit_array = features_df.filter(features_df.hashtag == 'brexit').select('features').collect()\n",
    "metgala_array = features_df.filter(features_df.hashtag == 'metgala').select('features').collect()"
   ]
  },
  {
   "cell_type": "code",
   "execution_count": 31,
   "metadata": {},
   "outputs": [
    {
     "data": {
      "image/png": "[encoded data removed]",
      "text/plain": [
       "<matplotlib.figure.Figure at 0x7fe8c58d2b38>"
      ]
     },
     "metadata": {},
     "output_type": "display_data"
    }
   ],
   "source": [
    "import numpy as np\n",
    "plt.subplot\n",
    "plt.figure(figsize=(16, 6))\n",
    "plt.plot(prince_array[0]['features'], label='prince')\n",
    "plt.plot(brexit_array[0]['features'], label='brexit')\n",
    "plt.plot(metgala_array[0]['features'], label='metgala')\n",
    "plt.xlabel('Day')\n",
    "plt.ylabel('Count')\n",
    "locs, labels = plt.xticks()\n",
    "labels = [int(item)+92 for item in locs]\n",
    "plt.xticks(locs, labels)\n",
    "plt.xlim(0, 118)\n",
    "legend = plt.legend(loc='upper left', shadow=True, fontsize='small')"
   ]
  },
  {
   "cell_type": "markdown",
   "metadata": {},
   "source": [
    "### DONE: Use KMeans to cluster hashtags based on the daily count timeseries (10 points / 50)\n",
    "\n",
    "Use the DataFrame you created above to cluster the hashtag timeseries. Train the model and calculate the cluster membership for all hashtags. Keep in mind that additional data cleaning or filtering might be necessary to get useful results from the model. Show the cluster that includes \"brexit\" - does it make sense? \n",
    "\n",
    "Again, be creative and see if you can get the clustering to give you meaningful hashtag groupings. Make sure you document your process and code and make your final notebook easy to understand even if the result is not optimal or complete. "
   ]
  },
  {
   "cell_type": "code",
   "execution_count": 32,
   "metadata": {
    "collapsed": true
   },
   "outputs": [],
   "source": [
    "from pyspark.ml.clustering import KMeans\n",
    "from pyspark.ml.evaluation import ClusteringEvaluator"
   ]
  },
  {
   "cell_type": "code",
   "execution_count": 33,
   "metadata": {
    "collapsed": true
   },
   "outputs": [],
   "source": [
    "def plot_k_means_elbow(K, distances):\n",
    "    \"\"\" Plot the Elbow curve to help select the \n",
    "        number of clusters to use\"\"\"\n",
    "    plt.figure(figsize=(16,6))\n",
    "    plt.plot(K, distances, 'bx-')\n",
    "    plt.xlabel('Number of clusters')\n",
    "    plt.ylabel('Cost')\n",
    "    plt.show()"
   ]
  },
  {
   "cell_type": "code",
   "execution_count": 34,
   "metadata": {
    "collapsed": true
   },
   "outputs": [],
   "source": [
    "costs = []\n",
    "K = range(2,15)\n",
    "for k_clusters in K:\n",
    "    kmeans = KMeans(k=k_clusters)\n",
    "    model = kmeans.fit(features_df.sample(fraction=0.1, seed=42))\n",
    "    costs.append(model.computeCost(features_df))"
   ]
  },
  {
   "cell_type": "code",
   "execution_count": 35,
   "metadata": {},
   "outputs": [
    {
     "data": {
      "image/png": "[encoded data removed]",
      "text/plain": [
       "<matplotlib.figure.Figure at 0x7fe8c41449b0>"
      ]
     },
     "metadata": {},
     "output_type": "display_data"
    }
   ],
   "source": [
    "# Plot the elbow curve to get the optimal number of clusters\n",
    "plot_k_means_elbow(K, costs)"
   ]
  },
  {
   "cell_type": "code",
   "execution_count": 36,
   "metadata": {
    "collapsed": true
   },
   "outputs": [],
   "source": [
    "# From the graph above the optimal number of clusters is 5\n",
    "n_clusters = 5"
   ]
  },
  {
   "cell_type": "code",
   "execution_count": 37,
   "metadata": {
    "collapsed": true
   },
   "outputs": [],
   "source": [
    "# Create KMeans model with the optimal number of clusters\n",
    "kmeans = KMeans(k=n_clusters)\n",
    "model = kmeans.fit(features_df)\n",
    "\n",
    "# Get the predictions\n",
    "predictions = model.transform(features_df)"
   ]
  },
  {
   "cell_type": "code",
   "execution_count": 38,
   "metadata": {},
   "outputs": [
    {
     "name": "stdout",
     "output_type": "stream",
     "text": [
      "+----------------+----------+\n",
      "|         hashtag|prediction|\n",
      "+----------------+----------+\n",
      "|   uncategorized|         0|\n",
      "|       traveling|         0|\n",
      "|          carsex|         0|\n",
      "|       cliqueart|         0|\n",
      "|        icpc2016|         0|\n",
      "|        tcmparty|         0|\n",
      "|      motortrade|         0|\n",
      "|  socialsecurity|         0|\n",
      "|  selfcaresunday|         0|\n",
      "|             dts|         0|\n",
      "|        rainyday|         0|\n",
      "|supergirlseason2|         0|\n",
      "|        teamcruz|         0|\n",
      "|      windsurfer|         0|\n",
      "|     spf50please|         0|\n",
      "|        targetfm|         0|\n",
      "| lookatallmyshit|         0|\n",
      "|        semangat|         0|\n",
      "|        peekaboo|         0|\n",
      "|     proudsister|         0|\n",
      "+----------------+----------+\n",
      "only showing top 20 rows\n",
      "\n"
     ]
    }
   ],
   "source": [
    "# Show the cluster membership for all hashtags\n",
    "hash_pred = predictions.select(['hashtag', 'prediction'])\n",
    "hash_pred.show()"
   ]
  },
  {
   "cell_type": "code",
   "execution_count": 39,
   "metadata": {},
   "outputs": [
    {
     "name": "stdout",
     "output_type": "stream",
     "text": [
      "+----------------+\n",
      "|         hashtag|\n",
      "+----------------+\n",
      "|   uncategorized|\n",
      "|       traveling|\n",
      "|          carsex|\n",
      "|       cliqueart|\n",
      "|        icpc2016|\n",
      "|        tcmparty|\n",
      "|      motortrade|\n",
      "|  socialsecurity|\n",
      "|  selfcaresunday|\n",
      "|             dts|\n",
      "|        rainyday|\n",
      "|supergirlseason2|\n",
      "|        teamcruz|\n",
      "|      windsurfer|\n",
      "|     spf50please|\n",
      "|        targetfm|\n",
      "| lookatallmyshit|\n",
      "|        semangat|\n",
      "|        peekaboo|\n",
      "|     proudsister|\n",
      "+----------------+\n",
      "only showing top 20 rows\n",
      "\n"
     ]
    }
   ],
   "source": [
    "# Get the cluster to which belongs brexit\n",
    "brexit_cluster = hash_pred.filter(hash_pred.hashtag == 'brexit').select('prediction').collect()[0][0]\n",
    "\n",
    "# Get all hashtags that belong to the same cluster as brexit\n",
    "cluster_b = spark.createDataFrame(hash_pred.filter(hash_pred.prediction == brexit_cluster) \\\n",
    "                                           .select('hashtag') \\\n",
    "                                           .collect())\n",
    "\n",
    "# Show the result\n",
    "cluster_b.show()"
   ]
  },
  {
   "cell_type": "markdown",
   "metadata": {},
   "source": [
    "After inquisitions we found out the meaning of the following hashtags:\n",
    "- #labourinforbritain: is the hashtag of the tweeter official account of the campaign to remains in the UE\n",
    "- #vote2016: can be related to the referendum that took place in june 2016 to exit Europe\n",
    "\n",
    "We conclude that the cluster makes sense."
   ]
  }
 ],
 "metadata": {
  "kernelspec": {
   "display_name": "Python 3",
   "language": "python",
   "name": "python3"
  },
  "language_info": {
   "codemirror_mode": {
    "name": "ipython",
    "version": 3
   },
   "file_extension": ".py",
   "mimetype": "text/x-python",
   "name": "python",
   "nbconvert_exporter": "python",
   "pygments_lexer": "ipython3",
   "version": "3.6.8"
  }
 },
 "nbformat": 4,
 "nbformat_minor": 2
}
