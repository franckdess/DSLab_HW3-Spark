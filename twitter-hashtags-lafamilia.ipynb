{
 "cells": [
  {
   "cell_type": "code",
   "execution_count": 1,
   "metadata": {
    "collapsed": true
   },
   "outputs": [],
   "source": [
    "%matplotlib inline\n",
    "import matplotlib.pylab as plt\n",
    "plt.rcParams['figure.figsize'] = (10,6)\n",
    "plt.rcParams['font.size'] = 18\n",
    "plt.style.use('fivethirtyeight')"
   ]
  },
  {
   "cell_type": "markdown",
   "metadata": {},
   "source": [
    "# Uncovering World Events using Twitter Hashtags\n",
    "\n",
    "## ... and learning about Spark `DataFrames` along the way\n",
    "\n",
    "In this notebook, we will use temporal information about Twitter hashtags to discover trending topics and potentially uncover world events as they occurred. You've already used this dataset in a previous homework, but here we will be working with it in Apache Spark.\n",
    "\n",
    "### Hashtags\n",
    "\n",
    "The idea here is that when an event is happening and people are having a conversation about it on Twitter, a set of uniform hashtags that represent the event spontaneously evolves. Twitter users then use those hashtags to communicate with one another. Some hashtags, like `#RT` for \"retweet\" or just `#retweet` are used frequently and don't tell us much about what is going on. But a sudden appearance of a hashtag like `#oscars` probably indicates that the oscars are underway. For a particularly cool example of this type of analysis, check out [this blog post about earthquake detection using Twitter data](https://blog.twitter.com/official/en_us/a/2015/usgs-twitter-data-earthquake-detection.html) (although they search the text and not necessarily hashtags)."
   ]
  },
  {
   "cell_type": "markdown",
   "metadata": {},
   "source": [
    "## Initialize the `SparkSession`"
   ]
  },
  {
   "cell_type": "code",
   "execution_count": 2,
   "metadata": {
    "collapsed": true
   },
   "outputs": [],
   "source": [
    "import getpass\n",
    "import pyspark\n",
    "from pyspark.sql import SparkSession\n",
    "\n",
    "spark = SparkSession \\\n",
    "    .builder \\\n",
    "    .master(\"yarn\") \\\n",
    "    .appName('twitter-{0}'.format(getpass.getuser())) \\\n",
    "    .config('spark.executor.memory', '4g') \\\n",
    "    .config('spark.executor.instances', '5') \\\n",
    "    .config('spark.port.maxRetries', '100') \\\n",
    "    .getOrCreate()"
   ]
  },
  {
   "cell_type": "code",
   "execution_count": 3,
   "metadata": {},
   "outputs": [
    {
     "data": {
      "text/html": [
       "\n",
       "            <div>\n",
       "                <p><b>SparkSession - in-memory</b></p>\n",
       "                \n",
       "        <div>\n",
       "            <p><b>SparkContext</b></p>\n",
       "\n",
       "            <p><a href=\"http://iccluster042.iccluster.epfl.ch:4040\">Spark UI</a></p>\n",
       "\n",
       "            <dl>\n",
       "              <dt>Version</dt>\n",
       "                <dd><code>v2.3.2.3.1.0.0-78</code></dd>\n",
       "              <dt>Master</dt>\n",
       "                <dd><code>yarn</code></dd>\n",
       "              <dt>AppName</dt>\n",
       "                <dd><code>twitter-mesguerr</code></dd>\n",
       "            </dl>\n",
       "        </div>\n",
       "        \n",
       "            </div>\n",
       "        "
      ],
      "text/plain": [
       "<pyspark.sql.session.SparkSession at 0x7f089ef7abe0>"
      ]
     },
     "execution_count": 3,
     "metadata": {},
     "output_type": "execute_result"
    }
   ],
   "source": [
    "spark"
   ]
  },
  {
   "cell_type": "markdown",
   "metadata": {},
   "source": [
    "## Set up the hashtag `DataFrame` (10 points / 60)\n",
    "\n",
    "We have prepared the hashtag data spanning the time from April-July 2016. This is a significant time in modern European history, e.g. see [Brexit](https://en.wikipedia.org/wiki/Brexit). Lets see if we can see any interesting trends about these events in the Twitter data. "
   ]
  },
  {
   "cell_type": "code",
   "execution_count": 4,
   "metadata": {
    "collapsed": true
   },
   "outputs": [],
   "source": [
    "from datetime import datetime\n",
    "\n",
    "import pyspark.sql.functions as functions"
   ]
  },
  {
   "cell_type": "markdown",
   "metadata": {},
   "source": [
    "### TODO (1 point/10)\n",
    "\n",
    "Load the **parquet** data from `/datasets/twitter/parquet/2016-hashtags-timestamp` into a Spark dataframe using the appropriate `SparkSession` method. \n",
    "\n",
    "Look at the first few rows of the dataset - note the timestamp and its units!"
   ]
  },
  {
   "cell_type": "code",
   "execution_count": 5,
   "metadata": {
    "collapsed": true
   },
   "outputs": [],
   "source": [
    "df = spark.read.parquet('/datasets/twitter/parquet/2016-hashtags-timestamp')"
   ]
  },
  {
   "cell_type": "code",
   "execution_count": 6,
   "metadata": {},
   "outputs": [
    {
     "name": "stdout",
     "output_type": "stream",
     "text": [
      "+------------+----+------------------+\n",
      "|   timestamp|lang|           hashtag|\n",
      "+------------+----+------------------+\n",
      "|1.46152973E9|  ar|  كلنا_لله_والرسول|\n",
      "|1.46154317E9|  ja|             vジャンプ|\n",
      "| 1.4615296E9|  pt|     gameofthrones|\n",
      "|1.46152832E9|  tr|            itiraf|\n",
      "|1.46154573E9|  ko|                더쇼|\n",
      "|1.46154483E9| und|              ford|\n",
      "| 1.4615433E9|  en|        stanleycup|\n",
      "|1.46152934E9|  ru|           новости|\n",
      "|1.46154573E9|  en|        bsoulradio|\n",
      "|1.46154496E9|  en|tsouitscomplicated|\n",
      "|1.46152973E9|  ja|            rezero|\n",
      "|1.46154317E9|  en|              star|\n",
      "|1.46154253E9|  ko|              성인자료|\n",
      "| 1.4615296E9|  ar|               أخر|\n",
      "|1.46153152E9|  tr|      aşıkolanadam|\n",
      "| 1.4615296E9|  ja|              相互限定|\n",
      "|1.46152896E9|  en|              vibe|\n",
      "|1.46154458E9|  en|     gameofthrones|\n",
      "|1.46154317E9|  ja|              予約投稿|\n",
      "|1.46154317E9|  ja|               傷物語|\n",
      "+------------+----+------------------+\n",
      "only showing top 20 rows\n",
      "\n"
     ]
    }
   ],
   "source": [
    "df.show()"
   ]
  },
  {
   "cell_type": "markdown",
   "metadata": {},
   "source": [
    "### User-defined functions\n",
    "\n",
    "A neat trick of spark dataframes is that you can essentially use something very much like an RDD `map` method but without switching to the RDD. If you are familiar with database languages, this works very much like e.g. a user-defined function in SQL. \n",
    "\n",
    "So, for example, if we wanted to make a user-defined python function that returns the hashtags in lowercase, we could do something like this:"
   ]
  },
  {
   "cell_type": "code",
   "execution_count": 7,
   "metadata": {
    "collapsed": true
   },
   "outputs": [],
   "source": [
    "@functions.udf\n",
    "def lowercase(text):\n",
    "    \"\"\"Convert text to lowercase\"\"\"\n",
    "    return text.lower()"
   ]
  },
  {
   "cell_type": "markdown",
   "metadata": {},
   "source": [
    "The @functions.udf is a \"decorator\" -- this is really handy python syntactic sugar and in this case is equivalent to:\n",
    "\n",
    "```\n",
    "def lowercase(text):\n",
    "    return text.lower()\n",
    "    \n",
    "lowercase = functions.udf(lowercase)\n",
    "```\n",
    "\n",
    "It basically takes our function and adds to its functionality. In this case, it registers our function as a pyspark dataframe user-defined function (UDF).\n",
    "\n",
    "Using these UDFs is very straightforward and analogous to other Spark dataframe operations. For example:"
   ]
  },
  {
   "cell_type": "code",
   "execution_count": 8,
   "metadata": {},
   "outputs": [
    {
     "name": "stdout",
     "output_type": "stream",
     "text": [
      "+------------------+\n",
      "|lowercase(hashtag)|\n",
      "+------------------+\n",
      "|  كلنا_لله_والرسول|\n",
      "|             vジャンプ|\n",
      "|     gameofthrones|\n",
      "|            itiraf|\n",
      "|                더쇼|\n",
      "|              ford|\n",
      "|        stanleycup|\n",
      "|           новости|\n",
      "|        bsoulradio|\n",
      "|tsouitscomplicated|\n",
      "|            rezero|\n",
      "|              star|\n",
      "|              성인자료|\n",
      "|               أخر|\n",
      "|      aşıkolanadam|\n",
      "|              相互限定|\n",
      "|              vibe|\n",
      "|     gameofthrones|\n",
      "|              予約投稿|\n",
      "|               傷物語|\n",
      "+------------------+\n",
      "only showing top 20 rows\n",
      "\n"
     ]
    }
   ],
   "source": [
    "df.select(lowercase(df.hashtag)).show()"
   ]
  },
  {
   "cell_type": "markdown",
   "metadata": {},
   "source": [
    "Using a framework like Spark is all about understanding the ins and outs of how it functions and knowing what it offers. One of the cool things about the dataframe API is that many functions are already defined for you (turning strings into lowercase being one of them). \n",
    "\n",
    "### TODO (2 points / 10)\n",
    "\n",
    "Find the Spark python API documentation. Look for the `sql` section and find the listing of `sql.functions`. Repeat the above (turning hashtags into lowercase) but use the built-in function."
   ]
  },
  {
   "cell_type": "code",
   "execution_count": 9,
   "metadata": {},
   "outputs": [
    {
     "name": "stdout",
     "output_type": "stream",
     "text": [
      "+------------------+\n",
      "|    lower(hashtag)|\n",
      "+------------------+\n",
      "|  كلنا_لله_والرسول|\n",
      "|             vジャンプ|\n",
      "|     gameofthrones|\n",
      "|            itiraf|\n",
      "|                더쇼|\n",
      "|              ford|\n",
      "|        stanleycup|\n",
      "|           новости|\n",
      "|        bsoulradio|\n",
      "|tsouitscomplicated|\n",
      "|            rezero|\n",
      "|              star|\n",
      "|              성인자료|\n",
      "|               أخر|\n",
      "|      aşıkolanadam|\n",
      "|              相互限定|\n",
      "|              vibe|\n",
      "|     gameofthrones|\n",
      "|              予約投稿|\n",
      "|               傷物語|\n",
      "+------------------+\n",
      "only showing top 20 rows\n",
      "\n"
     ]
    }
   ],
   "source": [
    "df.select(functions.lower(df.hashtag)).show()"
   ]
  },
  {
   "cell_type": "markdown",
   "metadata": {},
   "source": [
    "We'll work with a combination of these built-in functions and user-defined functions for the remainder of this homework. \n",
    "\n",
    "### TODO (7 points/10)\n",
    "\n",
    "Create `english_df` consisting of **lowercase** hashtags from only english-language tweets. In addition, convert the timestamp to a more readable format like this and name the column `date`:\n",
    "\n",
    "```\n",
    "2016-04-01 08:41:00\n",
    "```"
   ]
  },
  {
   "cell_type": "code",
   "execution_count": 10,
   "metadata": {},
   "outputs": [
    {
     "name": "stdout",
     "output_type": "stream",
     "text": [
      "+------------+----+------------------+-------------------+\n",
      "|   timestamp|lang|           hashtag|               date|\n",
      "+------------+----+------------------+-------------------+\n",
      "| 1.4615433E9|  en|        stanleycup|2016-04-25 02:14:56|\n",
      "|1.46154573E9|  en|        bsoulradio|2016-04-25 02:55:28|\n",
      "|1.46154496E9|  en|tsouitscomplicated|2016-04-25 02:42:40|\n",
      "|1.46154317E9|  en|              star|2016-04-25 02:12:48|\n",
      "|1.46152896E9|  en|              vibe|2016-04-24 22:16:00|\n",
      "+------------+----+------------------+-------------------+\n",
      "only showing top 5 rows\n",
      "\n"
     ]
    }
   ],
   "source": [
    "english_df = df.select(df.timestamp, df.lang, df.hashtag).filter(df.lang == 'en')\n",
    "english_df = english_df.withColumn('hashtag', functions.lower(df.hashtag))\n",
    "english_df = english_df.withColumn('date', functions.from_unixtime(df.timestamp, 'yyyy-MM-dd HH:mm:ss'))\n",
    "\n",
    "english_df.show(5)"
   ]
  },
  {
   "cell_type": "markdown",
   "metadata": {},
   "source": [
    "Your `english_df` should look something like this:\n",
    "\n",
    "```\n",
    "+------------+----+------------------+-------------------+\n",
    "|   timestamp|lang|           hashtag|               date|\n",
    "+------------+----+------------------+-------------------+\n",
    "| 1.4615433E9|  en|        stanleycup|2016-04-25 02:14:56|\n",
    "|1.46154573E9|  en|        bsoulradio|2016-04-25 02:55:28|\n",
    "|1.46154496E9|  en|tsouitscomplicated|2016-04-25 02:42:40|\n",
    "|1.46154317E9|  en|              star|2016-04-25 02:12:48|\n",
    "|1.46152896E9|  en|              vibe|2016-04-24 22:16:00|\n",
    "+------------+----+------------------+-------------------+\n",
    "```"
   ]
  },
  {
   "cell_type": "markdown",
   "metadata": {},
   "source": [
    "## Twitter hashtag trends (50 points / 60)\n",
    "\n",
    "In this section we will try to do a slightly more complicated analysis of the tweets. Our goal is to get an idea of tweet frequency as a function of time for certain hashtags. \n",
    "\n",
    "Lets build this up in steps. First, lets see how we can start to organize the tweets by their timestamps. \n",
    "\n",
    "As a first easy example, lets say we just want to count the number of tweets per minute over the entire span of our data. For this, we first need a \"global\" minute value, e.g. \"minute of the year\" or something similar. \n",
    "\n",
    "Spark provides us with some handy built-in dataframe functions that are made for transforming date and time fields. \n",
    "\n",
    "Have a look [here](http://spark.apache.org/docs/latest/api/python/pyspark.sql.html#module-pyspark.sql.functions) to see the whole list of custom dataframe functions - you will need to use them to complete the next set of TODO items."
   ]
  },
  {
   "cell_type": "markdown",
   "metadata": {},
   "source": [
    "Note that the functions can be combined. Consider the following dataframe and its transformation:"
   ]
  },
  {
   "cell_type": "code",
   "execution_count": 11,
   "metadata": {
    "collapsed": true
   },
   "outputs": [
    {
     "name": "stdout",
     "output_type": "stream",
     "text": [
      "+---------------------+\n",
      "|SIN(RADIANS(degrees))|\n",
      "+---------------------+\n",
      "|                  0.0|\n",
      "|  0.01745240643728351|\n",
      "|  0.03489949670250097|\n",
      "|  0.05233595624294383|\n",
      "|   0.0697564737441253|\n",
      "|  0.08715574274765817|\n",
      "|  0.10452846326765346|\n",
      "|  0.12186934340514748|\n",
      "|  0.13917310096006544|\n",
      "|  0.15643446504023087|\n",
      "|  0.17364817766693033|\n",
      "|   0.1908089953765448|\n",
      "|  0.20791169081775931|\n",
      "|  0.22495105434386498|\n",
      "|  0.24192189559966773|\n",
      "|  0.25881904510252074|\n",
      "|  0.27563735581699916|\n",
      "|   0.2923717047227367|\n",
      "|   0.3090169943749474|\n",
      "|   0.3255681544571567|\n",
      "+---------------------+\n",
      "only showing top 20 rows\n",
      "\n"
     ]
    }
   ],
   "source": [
    "from pyspark.sql import Row\n",
    "\n",
    "# create a sample dataframe with one column \"degrees\" going from 0 to 180\n",
    "test_df = spark.createDataFrame(spark.sparkContext.range(180).map(lambda x: Row(degrees=x)), ['degrees'])\n",
    "\n",
    "# define a function \"sin_rad\" that first converts degrees to radians and then takes the sine using built-in functions\n",
    "sin_rad = functions.sin(functions.radians(test_df.degrees))\n",
    "\n",
    "# show the result\n",
    "test_df.select(sin_rad).show()"
   ]
  },
  {
   "cell_type": "markdown",
   "metadata": {},
   "source": [
    "### DataFrames `groupBy`\n",
    "\n",
    "We used `groupBy` already in the previous notebook, but here we will take more advantage of its features. \n",
    "\n",
    "One important thing to note is that unlike other RDD or DataFrame transformations, the `groupBy` does not return another DataFrame, but a `GroupedData` object instead, with its own methods. These methods allow you to do various transformations and aggregations on the data of the grouped rows. \n",
    "\n",
    "Conceptually the procedure is a lot like this:\n",
    "\n",
    "![groupby](https://i.stack.imgur.com/sgCn1.jpg)\n",
    "\n",
    "The column that is used for the `groupBy` is the `key` - once we have the values of a particular key all together, we can use various aggregation functions on them to generate a transformed dataset. In this example, the aggregation function is a simple `sum`. In the simple procedure below, the `key` will be the hashtag."
   ]
  },
  {
   "cell_type": "markdown",
   "metadata": {},
   "source": [
    "### TODO (1 point / 50)\n",
    "\n",
    "Calculate the top five most common hashtags in the whole english-language dataset.\n",
    "\n",
    "This should be your result:\n",
    "\n",
    "```\n",
    "+-------------+------+\n",
    "|      hashtag| count|\n",
    "+-------------+------+\n",
    "|   mtvhottest|800829|\n",
    "|veranomtv2016|539028|\n",
    "| iheartawards|447648|\n",
    "|  bestfanarmy|429739|\n",
    "|   teenchoice|345231|\n",
    "+-------------+------+\n",
    "```"
   ]
  },
  {
   "cell_type": "code",
   "execution_count": 12,
   "metadata": {
    "collapsed": true
   },
   "outputs": [
    {
     "name": "stdout",
     "output_type": "stream",
     "text": [
      "+-------------+------+\n",
      "|      hashtag| count|\n",
      "+-------------+------+\n",
      "|   mtvhottest|800829|\n",
      "|veranomtv2016|539028|\n",
      "| iheartawards|447648|\n",
      "|  bestfanarmy|429739|\n",
      "|   teenchoice|345231|\n",
      "+-------------+------+\n",
      "\n"
     ]
    }
   ],
   "source": [
    "most_comm_hashtag = english_df.groupBy(\"hashtag\").count().sort(\"count\", ascending=False).limit(5)\n",
    "most_comm_hashtag.show()"
   ]
  },
  {
   "cell_type": "markdown",
   "metadata": {},
   "source": [
    "## Daily hashtag trends\n",
    "\n",
    "Now we will start to complicate the analysis a bit. Remember, our goal is to uncover trending topics on a timescale of a few days. A much needed column then is simply `day`. To convert the date string into day-of-year, you can use the built-in [dayofyear](http://spark.apache.org/docs/latest/api/python/pyspark.sql.html#pyspark.sql.functions.dayofyear) function. \n",
    "\n",
    "In the subsequent sections we will then not only see which hashtags are globally most popular, but which ones experience the biggest changes in popularity - those are the \"trending\" topics. If there is suddenly a substantial increase of a hashtag over a matter of a day or two, it may signify an event taking place. "
   ]
  },
  {
   "cell_type": "markdown",
   "metadata": {},
   "source": [
    "### TODO (2 points / 50)\n",
    "\n",
    "Create a dataframe called `daily_hashtag` that includes the columns `month`, `week`, `day` and `hashtag`. Use the `english_df` you made above to start, and make sure you find the appropriate spark dataframe functions to make your life easier. Show the result.\n",
    "\n",
    "Try to match this view:\n",
    "\n",
    "```\n",
    "+-----+----+---+------------------+\n",
    "|month|week|day|           hashtag|\n",
    "+-----+----+---+------------------+\n",
    "|    4|  17|116|        stanleycup|\n",
    "|    4|  17|116|        bsoulradio|\n",
    "|    4|  17|116|tsouitscomplicated|\n",
    "|    4|  17|116|              star|\n",
    "|    4|  16|115|              vibe|\n",
    "+-----+----+---+------------------+\n",
    "```"
   ]
  },
  {
   "cell_type": "code",
   "execution_count": 13,
   "metadata": {},
   "outputs": [
    {
     "name": "stdout",
     "output_type": "stream",
     "text": [
      "+-----+----+---+------------------+\n",
      "|month|week|day|           hashtag|\n",
      "+-----+----+---+------------------+\n",
      "|    4|  17|116|        stanleycup|\n",
      "|    4|  17|116|        bsoulradio|\n",
      "|    4|  17|116|tsouitscomplicated|\n",
      "|    4|  17|116|              star|\n",
      "|    4|  16|115|              vibe|\n",
      "+-----+----+---+------------------+\n",
      "only showing top 5 rows\n",
      "\n"
     ]
    }
   ],
   "source": [
    "daily_hashtag = english_df.withColumn(\"d\", functions.to_date(\"date\", 'yyyy-MM-dd HH:mm:ss')).select(functions.month(\"d\").alias(\"month\"),\n",
    "                                                                                                    functions.weekofyear(\"d\").alias(\"week\"),\n",
    "                                                                                                    functions.dayofyear(\"d\").alias(\"day\"),\n",
    "                                                                                                    \"hashtag\")\n",
    "daily_hashtag.show(5)"
   ]
  },
  {
   "cell_type": "markdown",
   "metadata": {},
   "source": [
    "### TODO (2 points / 50)\n",
    "\n",
    "Now we want to calculate the number of times a hashtag is used per day. Sort in descending order of daily counts and show the result. Call the resulting dataframe `day_counts`.\n",
    "\n",
    "Your output should look like this:\n",
    "\n",
    "```\n",
    "+---+------------+----+------+\n",
    "|day|     hashtag|week| count|\n",
    "+---+------------+----+------+\n",
    "| 94|iheartawards|  13|208326|\n",
    "| 94| bestfanarmy|  13|202267|\n",
    "| 93|iheartawards|  13|133463|\n",
    "| 93| bestfanarmy|  13|131405|\n",
    "| 94|     5sosfam|  13| 81002|\n",
    "+---+------------+----+------+\n",
    "```\n",
    "\n",
    "<div class=\"alert alert-info\">\n",
    "<p>Make sure you use `cache()` when you create `day_counts` because we will need it in the steps that follow!</p>\n",
    "</div>"
   ]
  },
  {
   "cell_type": "code",
   "execution_count": 14,
   "metadata": {},
   "outputs": [
    {
     "name": "stdout",
     "output_type": "stream",
     "text": [
      "+---+------------+----+------+\n",
      "|day|     hashtag|week| count|\n",
      "+---+------------+----+------+\n",
      "| 94|iheartawards|  13|208326|\n",
      "| 94| bestfanarmy|  13|202267|\n",
      "| 93|iheartawards|  13|133463|\n",
      "| 93| bestfanarmy|  13|131405|\n",
      "| 94|     5sosfam|  13| 81002|\n",
      "+---+------------+----+------+\n",
      "only showing top 5 rows\n",
      "\n"
     ]
    }
   ],
   "source": [
    "day_counts = daily_hashtag.groupBy(\"day\", \"hashtag\", \"week\").count().sort(\"count\", ascending=False)\n",
    "day_counts.show(5)"
   ]
  },
  {
   "cell_type": "markdown",
   "metadata": {},
   "source": [
    "### TODO (2 points / 50)\n",
    "\n",
    "To get an idea of which hashtags stay popular for several days, calculate the average number of daily occurences for each week. Hint: use the `week` column we created above. Sort in descending order and show the top 20."
   ]
  },
  {
   "cell_type": "code",
   "execution_count": 15,
   "metadata": {
    "collapsed": true
   },
   "outputs": [
    {
     "name": "stdout",
     "output_type": "stream",
     "text": [
      "+----+-----------------+------------------+\n",
      "|week|          hashtag|        avg(count)|\n",
      "+----+-----------------+------------------+\n",
      "|  13|     iheartawards|          128017.0|\n",
      "|  13|      bestfanarmy|125075.66666666667|\n",
      "|  29|       mtvhottest|           51935.0|\n",
      "|  30|       mtvhottest| 47960.71428571428|\n",
      "|  13|          5sosfam|           46847.0|\n",
      "|  13|      harmonizers|42939.333333333336|\n",
      "|  13|     directioners|32562.333333333332|\n",
      "|  19|       teenchoice|20124.428571428572|\n",
      "|  25|    veranomtv2016|18096.285714285714|\n",
      "|  26|    veranomtv2016|17386.571428571428|\n",
      "|  15|aldub9thmonthsary|16190.666666666666|\n",
      "|  27|    veranomtv2016| 14033.42857142857|\n",
      "|  28|       mtvhottest|13168.857142857143|\n",
      "|  30|    veranomtv2016|12528.142857142857|\n",
      "|  23|     ripchristina|           12017.0|\n",
      "|  23|    mtvawardsstar|12010.333333333334|\n",
      "|  27|    altonsterling|           10291.4|\n",
      "|  30|     demsinphilly|           10049.0|\n",
      "|  14|     iheartawards| 8853.285714285714|\n",
      "|  31|       mtvhottest|            8539.0|\n",
      "+----+-----------------+------------------+\n",
      "only showing top 20 rows\n",
      "\n"
     ]
    }
   ],
   "source": [
    "day_counts.groupBy(\"week\", \"hashtag\").mean(\"count\").sort(\"avg(count)\", ascending=False).show(20)"
   ]
  },
  {
   "cell_type": "markdown",
   "metadata": {},
   "source": [
    "### Using `Window` functions \n",
    "\n",
    "Window functions are another awesome feature of dataframes. They allow users to accomplish complex tasks using very concise and simple code. \n",
    "\n",
    "Above we computed just the hashtag that had the most occurrences on *any* day. Now lets say we want to know the top tweets for *each* day.  \n",
    "\n",
    "This is a non-trivial thing to compute and requires \"windowing\" our data. I recommend reading this [window functions article](https://databricks.com/blog/2015/07/15/introducing-window-functions-in-spark-sql.html) to get acquainted with the idea. You can think of a window function as a fine-grained and more flexible `groupBy`. \n",
    "\n",
    "There are two things we need to define to use window functions:\n",
    "\n",
    "1. the \"window\" to use, based on which columns (partitioning) and how the rows should be ordered \n",
    "2. the computation to carry out for each windowed group, e.g. a max, an average etc.\n",
    "\n",
    "Lets see how this works by example. We will define a window function, `daily_window` that will partition data based on the `day` column. Within each window, the rows will be ordered by the daily hashtag count that we computed above. Finally, we will use the rank function **over** this window to give us the ranking of top tweets. \n",
    "\n",
    "In the end, this is a fairly complicated operation achieved in just a few lines of code! (can you think of how to do this with an RDD??)"
   ]
  },
  {
   "cell_type": "code",
   "execution_count": 16,
   "metadata": {
    "collapsed": true
   },
   "outputs": [],
   "source": [
    "from pyspark.sql import Window"
   ]
  },
  {
   "cell_type": "markdown",
   "metadata": {},
   "source": [
    "First, we specify the window function and the ordering:"
   ]
  },
  {
   "cell_type": "code",
   "execution_count": 17,
   "metadata": {
    "collapsed": true
   },
   "outputs": [],
   "source": [
    "daily_window = Window.partitionBy('day').orderBy(functions.desc('count'))"
   ]
  },
  {
   "cell_type": "markdown",
   "metadata": {},
   "source": [
    "The above window function says that we should window the data on the `day` column and order it by count. \n",
    "\n",
    "Now we need to define what we want to compute on the windowed data. We will start by just calculating the daily ranking of hashtags, so we can use the helpful built-in `functions.rank()` and sort:"
   ]
  },
  {
   "cell_type": "code",
   "execution_count": 18,
   "metadata": {
    "collapsed": true
   },
   "outputs": [],
   "source": [
    "daily_rank = functions.rank() \\\n",
    "                      .over(daily_window) \\\n",
    "                      .alias('rank') \\"
   ]
  },
  {
   "cell_type": "markdown",
   "metadata": {},
   "source": [
    "### TODO (3 points / 50)\n",
    "Now compute the top five hashtags for each day in our data:"
   ]
  },
  {
   "cell_type": "code",
   "execution_count": 19,
   "metadata": {
    "collapsed": true
   },
   "outputs": [
    {
     "name": "stdout",
     "output_type": "stream",
     "text": [
      "+---+------------+------+----+\n",
      "|day|     hashtag| count|rank|\n",
      "+---+------------+------+----+\n",
      "| 92|iheartawards| 42262|   1|\n",
      "| 92| bestfanarmy| 41555|   2|\n",
      "| 92| harmonizers| 19844|   3|\n",
      "| 92|     5sosfam| 15138|   4|\n",
      "| 92|directioners|  6090|   5|\n",
      "| 93|iheartawards|133463|   1|\n",
      "| 93| bestfanarmy|131405|   2|\n",
      "| 93| harmonizers| 54684|   3|\n",
      "| 93|     5sosfam| 44401|   4|\n",
      "| 93|directioners| 30902|   5|\n",
      "| 94|iheartawards|208326|   1|\n",
      "| 94| bestfanarmy|202267|   2|\n",
      "| 94|     5sosfam| 81002|   3|\n",
      "| 94|directioners| 60695|   4|\n",
      "| 94| harmonizers| 54290|   5|\n",
      "| 95|iheartawards| 59870|   1|\n",
      "| 95| bestfanarmy| 52184|   2|\n",
      "| 95|     5sosfam| 25701|   3|\n",
      "| 95|wrestlemania| 14913|   4|\n",
      "| 95| harmonizers| 12980|   5|\n",
      "+---+------------+------+----+\n",
      "only showing top 20 rows\n",
      "\n"
     ]
    }
   ],
   "source": [
    "top_hashtags_each_day = day_counts.select('day', 'hashtag', 'count', daily_rank)\n",
    "top_hashtags_each_day = top_hashtags_each_day.filter(top_hashtags_each_day.rank <= 5).sort(\"day\", \"rank\")\n",
    "top_hashtags_each_day.show()"
   ]
  },
  {
   "cell_type": "markdown",
   "metadata": {},
   "source": [
    "###  TODO - Compute the top five trending tweets per week (20 points / 50)\n",
    "Use window functions (or other techniques!) to produce lists of top few trending tweets for each week. What's a \"trending\" tweet? Something that seems to be suddenly growing very rapidly in popularity. You should identify \"brexit\" in week 25 and other events like the death of The Artist Formerly Known as Prince, the Met gala, Euro 2016, the terrorist attacks in Nice, France etc. Make it as simple or as complicated as you want! The final listing should be clear and concise and the flow of your analysis should be easy to follow. If you make an implementation that is not immediately obvious, make sure you provide comments either in markdown cells or in comments in the code itself."
   ]
  },
  {
   "cell_type": "code",
   "execution_count": 20,
   "metadata": {},
   "outputs": [],
   "source": [
    "week_counts = day_counts.groupBy(\"week\", \"hashtag\").sum(\"count\")\n",
    "weekly_window = Window.partitionBy('week').orderBy(functions.desc('sum(count)'))\n",
    "weekly_rank = functions.rank() \\\n",
    "                      .over(weekly_window) \\\n",
    "                      .alias('rank') \n",
    "top_hashtags_weekly = week_counts.select('week', 'hashtag', 'sum(count)', weekly_rank)\n",
    "top_hashtags_weekly = top_hashtags_weekly.filter(top_hashtags_weekly.rank <= 5).sort(\"week\", \"rank\")"
   ]
  },
  {
   "cell_type": "code",
   "execution_count": 21,
   "metadata": {},
   "outputs": [
    {
     "name": "stdout",
     "output_type": "stream",
     "text": [
      "+----+--------------------+----------+\n",
      "|week|             hashtag|sum(count)|\n",
      "+----+--------------------+----------+\n",
      "|  18|             metgala|     24319|\n",
      "|  25|           nbafinals|     15474|\n",
      "|  16|      hairmusicvideo|      3504|\n",
      "|  20|  highschooltaughtme|      4626|\n",
      "|  25|                 por|      3422|\n",
      "|  27|                  np|      7481|\n",
      "|  27|              follow|      6276|\n",
      "|  18|             retweet|      4474|\n",
      "|  26|              lhhatl|       685|\n",
      "|  24|                 swe|       732|\n",
      "|  19|    kathnielpelicula|       598|\n",
      "|  13|                got7|      1405|\n",
      "|  24|      deletemynumber|       551|\n",
      "|  27|             ramadan|      1180|\n",
      "|  28|            etsymntt|      3180|\n",
      "|  13|                tcot|      1195|\n",
      "|  15|        onebostonday|       552|\n",
      "|  14|             fitness|      2155|\n",
      "|  21|        musicreviews|       962|\n",
      "|  18|kathnielasapmaypa...|       362|\n",
      "+----+--------------------+----------+\n",
      "only showing top 20 rows\n",
      "\n"
     ]
    }
   ],
   "source": [
    "week_counts.show()"
   ]
  },
  {
   "cell_type": "code",
   "execution_count": 22,
   "metadata": {},
   "outputs": [
    {
     "name": "stdout",
     "output_type": "stream",
     "text": [
      "+----+------------------+----------+----+\n",
      "|week|           hashtag|sum(count)|rank|\n",
      "+----+------------------+----------+----+\n",
      "|  13|      iheartawards|    384051|   1|\n",
      "|  13|       bestfanarmy|    375227|   2|\n",
      "|  13|           5sosfam|    140541|   3|\n",
      "|  13|       harmonizers|    128818|   4|\n",
      "|  13|      directioners|     97687|   5|\n",
      "|  14|      iheartawards|     61973|   1|\n",
      "|  14|       bestfanarmy|     53209|   2|\n",
      "|  14|       sofantastic|     30271|   3|\n",
      "|  14|           5sosfam|     26021|   4|\n",
      "|  14|      directioners|     25176|   5|\n",
      "|  15| aldub9thmonthsary|     48572|   1|\n",
      "|  15|          mambaday|     18664|   2|\n",
      "|  15|dolceamoreiloveyou|     15062|   3|\n",
      "|  15|        nowplaying|     14789|   4|\n",
      "|  15|               job|     14194|   5|\n",
      "|  16|        nowplaying|     12808|   1|\n",
      "|  16|               job|     12378|   2|\n",
      "|  16|            prince|     11189|   3|\n",
      "|  16|              jobs|     11076|   4|\n",
      "|  16|            trecru|     10731|   5|\n",
      "+----+------------------+----------+----+\n",
      "only showing top 20 rows\n",
      "\n"
     ]
    }
   ],
   "source": [
    "top_hashtags_weekly.show()"
   ]
  },
  {
   "cell_type": "code",
   "execution_count": 23,
   "metadata": {},
   "outputs": [
    {
     "name": "stdout",
     "output_type": "stream",
     "text": [
      "+----+-------------+----------+----+\n",
      "|week|      hashtag|sum(count)|rank|\n",
      "+----+-------------+----------+----+\n",
      "|  25|veranomtv2016|    126674|   1|\n",
      "|  25|       brexit|     49416|   2|\n",
      "|  25|        euref|     24719|   3|\n",
      "|  25|   teenchoice|     23616|   4|\n",
      "|  25|     euro2016|     21326|   5|\n",
      "+----+-------------+----------+----+\n",
      "\n"
     ]
    }
   ],
   "source": [
    "top_hashtags_weekly.filter(top_hashtags_weekly.week == 25).show()"
   ]
  },
  {
   "cell_type": "markdown",
   "metadata": {},
   "source": [
    "## Plotting the timeseries of hashtag counts and using KMeans clustering\n",
    "\n",
    "### TODO (10 points / 50)\n",
    "\n",
    "The lists we obtained above are nice, but lets actually visualize some data. \n",
    "\n",
    "1. create a matrix that consists of hashtags as rows and daily counts as columns (hint: use `groupBy` and methods of `GroupedData`). \n",
    "2. use the `VectorAssembler` from the ML library to create the feature vector which will consist of daily counts. \n",
    "\n",
    "If you extract any of these vectors you will obtain a numpy array that represents the time series of daily counts - plot this time series for a few interesting hashtags you identified above. hint: the `isin` method of DataFrame columns might be useful. "
   ]
  },
  {
   "cell_type": "code",
   "execution_count": 32,
   "metadata": {},
   "outputs": [],
   "source": [
    "day_counts_matrix = day_counts.groupBy(\"hashtag\").pivot(\"day\").agg(functions.first(\"count\"))"
   ]
  },
  {
   "cell_type": "code",
   "execution_count": 33,
   "metadata": {},
   "outputs": [],
   "source": [
    "from pyspark.ml.feature import VectorAssembler\n",
    "assembler = VectorAssembler(\n",
    "        inputCols=[\"{0}\".format(i) for i in day_counts_matrix.columns[1:]],\n",
    "        outputCol=\"features\"\n",
    "    )\n",
    "day_counts_matrix = day_counts_matrix.fillna(0)\n",
    "features_df = assembler.transform(day_counts_matrix)"
   ]
  },
  {
   "cell_type": "code",
   "execution_count": 26,
   "metadata": {},
   "outputs": [
    {
     "data": {
      "text/plain": [
       "Row(features=DenseVector([420.0, 514.0, 459.0, 581.0, 555.0, 525.0, 560.0, 561.0, 490.0, 548.0, 640.0, 539.0, 568.0, 499.0, 528.0, 504.0, 462.0, 520.0, 545.0, 534.0, 566.0, 532.0, 99.0, 392.0, 575.0, 565.0, 561.0, 630.0, 702.0, 1123.0, 817.0, 725.0, 1140.0, 1185.0, 998.0, 934.0, 726.0, 535.0, 967.0, 671.0, 679.0, 678.0, 678.0, 593.0, 623.0, 976.0, 1058.0, 1072.0, 673.0, 774.0, 861.0, 628.0, 683.0, 697.0, 1212.0, 859.0, 935.0, 728.0, 737.0, 743.0, 680.0, 630.0, 127.0, 448.0, 435.0, 841.0, 693.0, 731.0, 660.0, 781.0, 847.0, 800.0, 486.0, 61.0, 752.0, 961.0, 1120.0, 1193.0, 1281.0, 1232.0, 1236.0, 1180.0, 1190.0, 1270.0, 1141.0, 1230.0, 1230.0, 1208.0, 1155.0, 1017.0, 1259.0, 1258.0, 1325.0, 1229.0, 1149.0, 975.0, 1132.0, 1214.0, 1292.0, 1298.0, 1048.0, 1068.0, 1218.0, 1105.0, 1254.0, 1251.0, 1182.0, 1174.0, 1265.0, 1201.0, 1096.0, 1275.0, 1163.0, 1226.0, 1235.0, 1069.0, 920.0, 1392.0, 294.0]))"
      ]
     },
     "execution_count": 26,
     "metadata": {},
     "output_type": "execute_result"
    }
   ],
   "source": [
    "features_df.select(\"features\").first()"
   ]
  },
  {
   "cell_type": "code",
   "execution_count": 36,
   "metadata": {},
   "outputs": [],
   "source": [
    "prince_array = features_df.filter(features_df.hashtag == \"prince\").select(\"features\").collect()\n",
    "brexit_array = features_df.filter(features_df.hashtag == \"brexit\").select(\"features\").collect()\n",
    "metgala_array = features_df.filter(features_df.hashtag == \"metgala\").select(\"features\").collect()\n"
   ]
  },
  {
   "cell_type": "code",
   "execution_count": 52,
   "metadata": {},
   "outputs": [
    {
     "data": {
      "image/png": "[encoded data removed]",
      "text/plain": [
       "<matplotlib.figure.Figure at 0x7f08870727f0>"
      ]
     },
     "metadata": {},
     "output_type": "display_data"
    }
   ],
   "source": [
    "fig, ax = plt.subplots() \n",
    "ax.plot(prince_array[0][\"features\"], label=\"prince\");\n",
    "ax.plot(brexit_array[0][\"features\"], label=\"brexit\")\n",
    "ax.plot(metgala_array[0][\"features\"], label=\"metgala\")\n",
    "legend = ax.legend(loc='upper left', shadow=True, fontsize='x-small')\n"
   ]
  },
  {
   "cell_type": "markdown",
   "metadata": {},
   "source": [
    "### TODO: Use KMeans to cluster hashtags based on the daily count timeseries (10 points / 50)\n",
    "\n",
    "Use the DataFrame you created above to cluster the hashtag timeseries. Train the model and calculate the cluster membership for all hashtags. Keep in mind that additional data cleaning or filtering might be necessary to get useful results from the model. Show the cluster that includes \"brexit\" - does it make sense? \n",
    "\n",
    "Again, be creative and see if you can get the clustering to give you meaningful hashtag groupings. Make sure you document your process and code and make your final notebook easy to understand even if the result is not optimal or complete. "
   ]
  }
 ],
 "metadata": {
  "kernelspec": {
   "display_name": "Python 3",
   "language": "python",
   "name": "python3"
  },
  "language_info": {
   "codemirror_mode": {
    "name": "ipython",
    "version": 3
   },
   "file_extension": ".py",
   "mimetype": "text/x-python",
   "name": "python",
   "nbconvert_exporter": "python",
   "pygments_lexer": "ipython3",
   "version": "3.6.3"
  }
 },
 "nbformat": 4,
 "nbformat_minor": 2
}
